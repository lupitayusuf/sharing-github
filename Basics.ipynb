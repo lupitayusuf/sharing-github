{
 "cells": [
  {
   "cell_type": "markdown",
   "metadata": {},
   "source": [
    "## Guided Project: What type of free-apps are likely to attract more users on Google Play and the App Store?\n",
    "In this project, we want to know what kind of apps in Google Play Store and App Store which has the greatest profit for the company. In order word, we will find apps that can attract more users. <br>\n",
    "<br>\n",
    "At first, we will read the available The Google Play Store data set which can be directly downloaded from [this link](https://dq-content.s3.amazonaws.com/350/googleplaystore.csv). For Apps Store, data set can be downloaded through [this link](https://dq-content.s3.amazonaws.com/350/AppleStore.csv)"
   ]
  },
  {
   "cell_type": "code",
   "execution_count": 1,
   "metadata": {},
   "outputs": [],
   "source": [
    "import pandas as pd\n",
    "\n",
    "df = pd.read_csv(\"C:/Users/AXIOO/Downloads/AppleStore.csv\")\n",
    "df2 = pd.read_csv(\"C:/Users/AXIOO/Downloads/googleplaystore.csv\")\n",
    "#print(df2.head())\n",
    "col_apple = [\"id\", \"track_name\", \"size_bytes\", \"currency\", \"price\", \"rating_count_tot\", \"rating_count_ver\", \"user_rating\",\n",
    "          \"user_rating_ver\", \"ver\", \"cont_rating\", \"prime_genre\", \"sup_devices\", \"ipadSc_urls\", \"lang\", \"vpp_lic\"]\n",
    "col_google = [\"App\", \"Category\", \"Rating\", \"Reiews\", \"Size\", \"Installs\", \"Type\", \"Price\", \"Content_Rating\", \"Genres\", \n",
    "             \"Last Updated\", \"Current Ver\", \"Android Ver\"]\n",
    "#apple_file = open('AppleStore.csv')\n",
    "#google_file = open('googleplaystore.csv')\n",
    "#from csv import reader\n",
    "#apple_reader = reader(apple_file)\n",
    "#google_reader = reader(google_file)\n",
    "apple = df.values.tolist()\n",
    "google = df2.values.tolist()\n",
    "\n",
    "#print(apple[:5])\n",
    "#google = list(google_reader)"
   ]
  },
  {
   "cell_type": "markdown",
   "metadata": {},
   "source": [
    "To see if the data well read, we will see at glance each data set respectively."
   ]
  },
  {
   "cell_type": "code",
   "execution_count": 2,
   "metadata": {},
   "outputs": [
    {
     "name": "stdout",
     "output_type": "stream",
     "text": [
      "[['Photo Editor & Candy Camera & Grid & ScrapBook', 'ART_AND_DESIGN', 4.1, '159', '19M', '10,000+', 'Free', '0', 'Everyone', 'Art & Design', 'January 7, 2018', '1.0.0', '4.0.3 and up'], ['Coloring book moana', 'ART_AND_DESIGN', 3.9, '967', '14M', '500,000+', 'Free', '0', 'Everyone', 'Art & Design;Pretend Play', 'January 15, 2018', '2.0.0', '4.0.3 and up']]\n",
      "\n",
      "\n",
      "[[284882215, 'Facebook', 389879808, 'USD', 0.0, 2974676, 212, 3.5, 3.5, '95.0', '4+', 'Social Networking', 37, 1, 29, 1], [389801252, 'Instagram', 113954816, 'USD', 0.0, 2161558, 1289, 4.5, 4.0, '10.23', '12+', 'Photo & Video', 37, 0, 29, 1]]\n"
     ]
    }
   ],
   "source": [
    "print(google[:2])\n",
    "print('\\n')\n",
    "print(apple[:2])"
   ]
  },
  {
   "cell_type": "markdown",
   "metadata": {},
   "source": [
    "As we can see that there is a difference between these two data sets. For Google data set, we will often use data from the column Category, Rating, Reviews, Install, and Content Rating. Meanwhile, we will use data from column price, user_rating_ver, and prime_genre. <br>\n",
    "<br>\n",
    "\n",
    "We start with opening dan exploring these two data sets. Because this step is important for seeing the data, we will make a function named explore_data() that we can repeatedl use in the future. "
   ]
  },
  {
   "cell_type": "code",
   "execution_count": 3,
   "metadata": {},
   "outputs": [],
   "source": [
    "def explore_data(dataset, start, end, rows_and_cols=False):\n",
    "    dataset_slice = dataset[start:end]\n",
    "    for row in dataset_slice:\n",
    "        print(row)\n",
    "        print('\\n')\n",
    "    \n",
    "    if rows_and_cols:\n",
    "        print('Number of rows:', len(dataset))\n",
    "        print('Number of columns:', len(dataset[0]))"
   ]
  },
  {
   "cell_type": "markdown",
   "metadata": {},
   "source": [
    "The explore_data function need four parameters:\n",
    "- dataset, in the form of list\n",
    "- start, integer which represent starting indices from the data set\n",
    "- end, integer which represent ending indices from the data set\n",
    "- rows_and_cols=False"
   ]
  },
  {
   "cell_type": "code",
   "execution_count": 4,
   "metadata": {},
   "outputs": [
    {
     "name": "stdout",
     "output_type": "stream",
     "text": [
      "[284882215, 'Facebook', 389879808, 'USD', 0.0, 2974676, 212, 3.5, 3.5, '95.0', '4+', 'Social Networking', 37, 1, 29, 1]\n",
      "\n",
      "\n",
      "[389801252, 'Instagram', 113954816, 'USD', 0.0, 2161558, 1289, 4.5, 4.0, '10.23', '12+', 'Photo & Video', 37, 0, 29, 1]\n",
      "\n",
      "\n",
      "[529479190, 'Clash of Clans', 116476928, 'USD', 0.0, 2130805, 579, 4.5, 4.5, '9.24.12', '9+', 'Games', 38, 5, 18, 1]\n",
      "\n",
      "\n",
      "[420009108, 'Temple Run', 65921024, 'USD', 0.0, 1724546, 3842, 4.5, 4.0, '1.6.2', '9+', 'Games', 40, 5, 1, 1]\n",
      "\n",
      "\n",
      "[284035177, 'Pandora - Music & Radio', 130242560, 'USD', 0.0, 1126879, 3594, 4.0, 4.5, '8.4.1', '12+', 'Music', 37, 4, 1, 1]\n",
      "\n",
      "\n"
     ]
    }
   ],
   "source": [
    "explore_data(apple, 0, 5)"
   ]
  },
  {
   "cell_type": "markdown",
   "metadata": {},
   "source": [
    "After that, process below is data cleaning. Before beginning our analysis, we have to see whether there are some inaccurate or duplicate data. This step is important to produce the best result of our analysis.\n",
    "<br>\n",
    "We can read through [this link](https://www.kaggle.com/lava18/google-play-store-apps/discussion) and conclude that there is an error for a certain row. \n",
    "<br>\n",
    "This error is caused by the entry 10472 (without header). For solved this problem, we will delete the entire row of that entry. "
   ]
  },
  {
   "cell_type": "code",
   "execution_count": 5,
   "metadata": {},
   "outputs": [
    {
     "data": {
      "text/plain": [
       "['osmino Wi-Fi: free WiFi',\n",
       " 'TOOLS',\n",
       " 4.2,\n",
       " '134203',\n",
       " '4.1M',\n",
       " '10,000,000+',\n",
       " 'Free',\n",
       " '0',\n",
       " 'Everyone',\n",
       " 'Tools',\n",
       " 'August 7, 2018',\n",
       " '6.06.14',\n",
       " '4.4 and up']"
      ]
     },
     "execution_count": 5,
     "metadata": {},
     "output_type": "execute_result"
    }
   ],
   "source": [
    "google[10473]"
   ]
  },
  {
   "cell_type": "code",
   "execution_count": 6,
   "metadata": {},
   "outputs": [],
   "source": [
    "del google[10473]"
   ]
  },
  {
   "cell_type": "code",
   "execution_count": 7,
   "metadata": {},
   "outputs": [
    {
     "data": {
      "text/plain": [
       "['Life Made WI-Fi Touchscreen Photo Frame',\n",
       " '1.9',\n",
       " 19.0,\n",
       " '3.0M',\n",
       " '1,000+',\n",
       " 'Free',\n",
       " '0',\n",
       " 'Everyone',\n",
       " nan,\n",
       " 'February 11, 2018',\n",
       " '1.0.19',\n",
       " '4.0 and up',\n",
       " nan]"
      ]
     },
     "execution_count": 7,
     "metadata": {},
     "output_type": "execute_result"
    }
   ],
   "source": [
    "google[10472]"
   ]
  },
  {
   "cell_type": "markdown",
   "metadata": {},
   "source": [
    "The next step is we will see if there is a duplicate data. For example, in google data set and for Instagram apps, there are more than one result if we called the data based on the name Instagram.  "
   ]
  },
  {
   "cell_type": "code",
   "execution_count": 8,
   "metadata": {},
   "outputs": [
    {
     "name": "stdout",
     "output_type": "stream",
     "text": [
      "['Instagram', 'SOCIAL', 4.5, '66577313', 'Varies with device', '1,000,000,000+', 'Free', '0', 'Teen', 'Social', 'July 31, 2018', 'Varies with device', 'Varies with device']\n",
      "['Instagram', 'SOCIAL', 4.5, '66577446', 'Varies with device', '1,000,000,000+', 'Free', '0', 'Teen', 'Social', 'July 31, 2018', 'Varies with device', 'Varies with device']\n",
      "['Instagram', 'SOCIAL', 4.5, '66577313', 'Varies with device', '1,000,000,000+', 'Free', '0', 'Teen', 'Social', 'July 31, 2018', 'Varies with device', 'Varies with device']\n",
      "['Instagram', 'SOCIAL', 4.5, '66509917', 'Varies with device', '1,000,000,000+', 'Free', '0', 'Teen', 'Social', 'July 31, 2018', 'Varies with device', 'Varies with device']\n"
     ]
    }
   ],
   "source": [
    "for app in google:\n",
    "    name = app[0]\n",
    "    if name == 'Instagram':\n",
    "        print(app)"
   ]
  },
  {
   "cell_type": "markdown",
   "metadata": {},
   "source": [
    "For example, the main difference happens on the fourth position of each row, which corresponds to the number of reviews. The different numbers show the data was collected at different times. "
   ]
  },
  {
   "cell_type": "markdown",
   "metadata": {},
   "source": [
    "Code below describe the count of duplicate apps in Google Play Store and Apple Play Store. <br>\n",
    "We begin with make a empty list for duplicate apss and unique apps. After that, we create a loop through the google data set. If there are the same apps, we append that apps into duplicate_apps list, else we append into unique_apps. "
   ]
  },
  {
   "cell_type": "code",
   "execution_count": 9,
   "metadata": {},
   "outputs": [
    {
     "name": "stdout",
     "output_type": "stream",
     "text": [
      "Number of duplicate apps in Google Play Store:  1180\n",
      "Number of unique apps in Google Play Store:  9660\n"
     ]
    }
   ],
   "source": [
    "duplicate_apps = []\n",
    "unique_apps = []\n",
    "for app in google:\n",
    "    name = app[0]\n",
    "    if name in unique_apps:\n",
    "        duplicate_apps.append(name)\n",
    "    else:\n",
    "        unique_apps.append(name)\n",
    "print('Number of duplicate apps in Google Play Store: ', len(duplicate_apps))\n",
    "print('Number of unique apps in Google Play Store: ', len(unique_apps))\n"
   ]
  },
  {
   "cell_type": "markdown",
   "metadata": {},
   "source": [
    "As we can see that there are 1180 duplicate apps in Google Play Store. We create the same procedure for Apple data set."
   ]
  },
  {
   "cell_type": "code",
   "execution_count": 10,
   "metadata": {},
   "outputs": [
    {
     "name": "stdout",
     "output_type": "stream",
     "text": [
      "Number of duplicate apps in Apple Play Store:  0\n",
      "Number of unique apps in Apple Play Store:  7197\n"
     ]
    }
   ],
   "source": [
    "duplicate_apps2 = []\n",
    "unique_apps2 = []\n",
    "for app in apple:\n",
    "    name = app[0]\n",
    "    if name in unique_apps2:\n",
    "        duplicate_apps2.append(name)\n",
    "    else:\n",
    "        unique_apps2.append(name)\n",
    "print('Number of duplicate apps in Apple Play Store: ', len(duplicate_apps2))\n",
    "print('Number of unique apps in Apple Play Store: ', len(unique_apps2))\n"
   ]
  },
  {
   "cell_type": "markdown",
   "metadata": {},
   "source": [
    "Because the difference is in the fourth column which represent the number of reviews, we can use this information to build a criterion for removing the duplicates. The higher the number of reviews, the more recent the data should be. Rather than removing duplicates randomly, we'll only keep the row with the highest number of reviews and remove the other entries for any given app.\n",
    "<br>\n",
    "Code below is process to find the apps that have a maximum number of reviews for the duplicate apps."
   ]
  },
  {
   "cell_type": "code",
   "execution_count": 11,
   "metadata": {},
   "outputs": [
    {
     "name": "stdout",
     "output_type": "stream",
     "text": [
      "Expected length: 9659\n",
      "Actual length: 9660\n"
     ]
    }
   ],
   "source": [
    "reviews_max = {}\n",
    "\n",
    "for app in google:\n",
    "    name = app[0]\n",
    "    n_reviews = app[3]\n",
    "    \n",
    "    if name in reviews_max and reviews_max[name] < n_reviews:\n",
    "        reviews_max[name] = n_reviews\n",
    "        \n",
    "    elif name not in reviews_max:\n",
    "        reviews_max[name] = n_reviews       \n",
    "\n",
    "print('Expected length:', len(google) - 1181)\n",
    "print('Actual length:', len(reviews_max))\n",
    "        "
   ]
  },
  {
   "cell_type": "markdown",
   "metadata": {},
   "source": [
    "Because we already know that Apple data set doesn't have any duplicate data, we do not have to do the same thing as in Google data set. <br>\n",
    "The process below explains about how we delete the duplicate rows in Google data set. We use the reviews_max dictionary which made before and we create two list, android_clean and already_added. <br>\n",
    "If we find apps which has a maximum number of reviews for the duplicate apps and that apps not on the already_added list yet, we append the app to android_clean list. Do the iteration until all of apps in Google are checked."
   ]
  },
  {
   "cell_type": "code",
   "execution_count": 12,
   "metadata": {},
   "outputs": [],
   "source": [
    "android_clean = []\n",
    "already_added = []\n",
    "\n",
    "for app in google:\n",
    "    name = app[0]\n",
    "    n_reviews = app[3]\n",
    "    if (n_reviews == reviews_max[name]) and (name not in already_added):\n",
    "        android_clean.append(app)\n",
    "        already_added.append(name)\n",
    "\n",
    "        "
   ]
  },
  {
   "cell_type": "code",
   "execution_count": 13,
   "metadata": {},
   "outputs": [
    {
     "name": "stdout",
     "output_type": "stream",
     "text": [
      "['Photo Editor & Candy Camera & Grid & ScrapBook', 'ART_AND_DESIGN', 4.1, '159', '19M', '10,000+', 'Free', '0', 'Everyone', 'Art & Design', 'January 7, 2018', '1.0.0', '4.0.3 and up']\n",
      "\n",
      "\n",
      "['U Launcher Lite – FREE Live Cool Themes, Hide Apps', 'ART_AND_DESIGN', 4.7, '87510', '8.7M', '5,000,000+', 'Free', '0', 'Everyone', 'Art & Design', 'August 1, 2018', '1.2.4', '4.0.3 and up']\n",
      "\n",
      "\n",
      "['Sketch - Draw & Paint', 'ART_AND_DESIGN', 4.5, '215644', '25M', '50,000,000+', 'Free', '0', 'Teen', 'Art & Design', 'June 8, 2018', 'Varies with device', '4.2 and up']\n",
      "\n",
      "\n",
      "Number of rows: 9660\n",
      "Number of columns: 13\n"
     ]
    }
   ],
   "source": [
    "explore_data(android_clean, 0, 3, True)"
   ]
  },
  {
   "cell_type": "markdown",
   "metadata": {},
   "source": [
    "The next step is we have to identify the non-english-speaking apps. For this analysis, we focus onnly on the apps that are directed toward an English-speaking audience. <br>\n",
    "We will use ord() function and [ASCII](https://en.wikipedia.org/wiki/ASCII) system to identify the English text. The numbers corresponding to the characters we commonly use in an English text are all in the range 0 to 127. <br>\n",
    "We construct cek_english function with a_string input. If every word has more than three characters (assumptions) with corresponding numbers falling outside the ASCII range, we conclude that the a_string labeled as non-English word."
   ]
  },
  {
   "cell_type": "code",
   "execution_count": 14,
   "metadata": {},
   "outputs": [],
   "source": [
    "def cek_english(a_string):\n",
    "    non_ascii = 0\n",
    "    for char in a_string:\n",
    "        value = ord(char)\n",
    "        if value > 127:\n",
    "            non_ascii += 1\n",
    "    if non_ascii>3:\n",
    "        return False\n",
    "    return True\n",
    "    "
   ]
  },
  {
   "cell_type": "code",
   "execution_count": 15,
   "metadata": {},
   "outputs": [
    {
     "data": {
      "text/plain": [
       "False"
      ]
     },
     "execution_count": 15,
     "metadata": {},
     "output_type": "execute_result"
    }
   ],
   "source": [
    "cek_english('爱奇艺PPS -《欢乐颂2》电视剧热播')"
   ]
  },
  {
   "cell_type": "markdown",
   "metadata": {},
   "source": [
    "The next step is we create a list for english-speaking apps in Google and Apple Store."
   ]
  },
  {
   "cell_type": "code",
   "execution_count": 16,
   "metadata": {},
   "outputs": [
    {
     "name": "stdout",
     "output_type": "stream",
     "text": [
      "[[284882215, 'Facebook', 389879808, 'USD', 0.0, 2974676, 212, 3.5, 3.5, '95.0', '4+', 'Social Networking', 37, 1, 29, 1], [389801252, 'Instagram', 113954816, 'USD', 0.0, 2161558, 1289, 4.5, 4.0, '10.23', '12+', 'Photo & Video', 37, 0, 29, 1], [529479190, 'Clash of Clans', 116476928, 'USD', 0.0, 2130805, 579, 4.5, 4.5, '9.24.12', '9+', 'Games', 38, 5, 18, 1], [420009108, 'Temple Run', 65921024, 'USD', 0.0, 1724546, 3842, 4.5, 4.0, '1.6.2', '9+', 'Games', 40, 5, 1, 1], [284035177, 'Pandora - Music & Radio', 130242560, 'USD', 0.0, 1126879, 3594, 4.0, 4.5, '8.4.1', '12+', 'Music', 37, 4, 1, 1]]\n"
     ]
    }
   ],
   "source": [
    "android_english = []\n",
    "apple_english = []\n",
    "\n",
    "for app in android_clean:\n",
    "    name = app[0]\n",
    "    if cek_english(name):\n",
    "        android_english.append(app)\n",
    "\n",
    "for app in apple:\n",
    "    name = app[1]\n",
    "    if cek_english(name):\n",
    "        apple_english.append(app)\n",
    "print(apple_english[:5])       "
   ]
  },
  {
   "cell_type": "code",
   "execution_count": 17,
   "metadata": {},
   "outputs": [
    {
     "name": "stdout",
     "output_type": "stream",
     "text": [
      "['Photo Editor & Candy Camera & Grid & ScrapBook', 'ART_AND_DESIGN', 4.1, '159', '19M', '10,000+', 'Free', '0', 'Everyone', 'Art & Design', 'January 7, 2018', '1.0.0', '4.0.3 and up']\n",
      "\n",
      "\n",
      "['U Launcher Lite – FREE Live Cool Themes, Hide Apps', 'ART_AND_DESIGN', 4.7, '87510', '8.7M', '5,000,000+', 'Free', '0', 'Everyone', 'Art & Design', 'August 1, 2018', '1.2.4', '4.0.3 and up']\n",
      "\n",
      "\n",
      "['Sketch - Draw & Paint', 'ART_AND_DESIGN', 4.5, '215644', '25M', '50,000,000+', 'Free', '0', 'Teen', 'Art & Design', 'June 8, 2018', 'Varies with device', '4.2 and up']\n",
      "\n",
      "\n",
      "Number of rows: 9615\n",
      "Number of columns: 13\n",
      "\n",
      "\n",
      "[284882215, 'Facebook', 389879808, 'USD', 0.0, 2974676, 212, 3.5, 3.5, '95.0', '4+', 'Social Networking', 37, 1, 29, 1]\n",
      "\n",
      "\n",
      "[389801252, 'Instagram', 113954816, 'USD', 0.0, 2161558, 1289, 4.5, 4.0, '10.23', '12+', 'Photo & Video', 37, 0, 29, 1]\n",
      "\n",
      "\n",
      "[529479190, 'Clash of Clans', 116476928, 'USD', 0.0, 2130805, 579, 4.5, 4.5, '9.24.12', '9+', 'Games', 38, 5, 18, 1]\n",
      "\n",
      "\n",
      "Number of rows: 6183\n",
      "Number of columns: 16\n"
     ]
    }
   ],
   "source": [
    "explore_data(android_english, 0, 3, True)\n",
    "print('\\n')\n",
    "explore_data(apple_english, 0, 3, True)"
   ]
  },
  {
   "cell_type": "markdown",
   "metadata": {},
   "source": [
    "Because ouf focus only on free apps, we have to separate the paid and free applications in both market. For Google Play Store, we can see at the seventh column to check if it belongs to free or paid apps. In the other hand for Apple Store, we can see at the price column. "
   ]
  },
  {
   "cell_type": "code",
   "execution_count": 18,
   "metadata": {},
   "outputs": [
    {
     "name": "stdout",
     "output_type": "stream",
     "text": [
      "8861\n",
      "3222\n",
      "[[284882215, 'Facebook', 389879808, 'USD', 0.0, 2974676, 212, 3.5, 3.5, '95.0', '4+', 'Social Networking', 37, 1, 29, 1], [389801252, 'Instagram', 113954816, 'USD', 0.0, 2161558, 1289, 4.5, 4.0, '10.23', '12+', 'Photo & Video', 37, 0, 29, 1], [529479190, 'Clash of Clans', 116476928, 'USD', 0.0, 2130805, 579, 4.5, 4.5, '9.24.12', '9+', 'Games', 38, 5, 18, 1], [420009108, 'Temple Run', 65921024, 'USD', 0.0, 1724546, 3842, 4.5, 4.0, '1.6.2', '9+', 'Games', 40, 5, 1, 1], [284035177, 'Pandora - Music & Radio', 130242560, 'USD', 0.0, 1126879, 3594, 4.0, 4.5, '8.4.1', '12+', 'Music', 37, 4, 1, 1]]\n"
     ]
    }
   ],
   "source": [
    "google_free = []\n",
    "apple_free = []\n",
    "\n",
    "for app in android_english:\n",
    "    value = app[6]\n",
    "    if value == 'Free':\n",
    "        google_free.append(app)\n",
    "    \n",
    "for app in apple_english:\n",
    "    value = app[4]\n",
    "    if value == 0:\n",
    "        apple_free.append(app)\n",
    "        \n",
    "print(len(google_free))\n",
    "print(len(apple_free))\n",
    "\n",
    "print(apple_free[:5])"
   ]
  },
  {
   "cell_type": "markdown",
   "metadata": {},
   "source": [
    "So far in the data cleaning process, we:\n",
    "- Removed inaccurate data\n",
    "- Removed duplicate app entries\n",
    "- Removed non-English apps\n",
    "<br>\n",
    "<br>\n",
    "Because our aim is to find apps that are likely to attract more users, we need to determine app profile that are successful on both Google Play and The App Store. <br>\n",
    "We begin the analysis by determine the most common genres for each market. We will build frequency tables for a few columns in our data sets.<br>\n",
    "\n",
    "First, we create freq_table with two parameters: dataset and index. We initiate with empty list table and empty dictionary table_percentages which expressed as percentages for any column we want to calculate."
   ]
  },
  {
   "cell_type": "code",
   "execution_count": 19,
   "metadata": {},
   "outputs": [
    {
     "data": {
      "text/plain": [
       "{'Social Networking': 3.2898820608317814,\n",
       " 'Photo & Video': 4.9658597144630665,\n",
       " 'Games': 58.16263190564867,\n",
       " 'Music': 2.0484171322160147,\n",
       " 'Reference': 0.5586592178770949,\n",
       " 'Health & Fitness': 2.0173805090006205,\n",
       " 'Weather': 0.8690254500310366,\n",
       " 'Utilities': 2.5139664804469275,\n",
       " 'Travel': 1.2414649286157666,\n",
       " 'Shopping': 2.60707635009311,\n",
       " 'News': 1.3345747982619491,\n",
       " 'Navigation': 0.186219739292365,\n",
       " 'Lifestyle': 1.5828677839851024,\n",
       " 'Entertainment': 7.883302296710118,\n",
       " 'Food & Drink': 0.8069522036002483,\n",
       " 'Sports': 2.1415270018621975,\n",
       " 'Book': 0.4345127250155183,\n",
       " 'Finance': 1.1173184357541899,\n",
       " 'Education': 3.662321539416512,\n",
       " 'Productivity': 1.7380509000620732,\n",
       " 'Business': 0.5276225946617008,\n",
       " 'Catalogs': 0.12414649286157665,\n",
       " 'Medical': 0.186219739292365}"
      ]
     },
     "execution_count": 19,
     "metadata": {},
     "output_type": "execute_result"
    }
   ],
   "source": [
    "def freq_table(dataset, index):\n",
    "    table = {}\n",
    "    \n",
    "    for app in dataset:\n",
    "        value = app[index]\n",
    "        if value in table:\n",
    "            table[value] += 1\n",
    "        else:\n",
    "            table[value] = 1\n",
    "    \n",
    "    table_percentages = {}\n",
    "    for key in table:\n",
    "        table_percentages[key] = (table[key] / len(dataset)) * 100\n",
    "    \n",
    "    return table_percentages\n",
    "\n",
    "freq_table(apple_free, 11)"
   ]
  },
  {
   "cell_type": "markdown",
   "metadata": {},
   "source": [
    "Before we analyze, we have to sort the frequency table for the prime_genre column of the App Store data set above."
   ]
  },
  {
   "cell_type": "code",
   "execution_count": 20,
   "metadata": {},
   "outputs": [
    {
     "data": {
      "text/plain": [
       "[('Catalogs', 0.12414649286157665),\n",
       " ('Navigation', 0.186219739292365),\n",
       " ('Medical', 0.186219739292365),\n",
       " ('Book', 0.4345127250155183),\n",
       " ('Business', 0.5276225946617008),\n",
       " ('Reference', 0.5586592178770949),\n",
       " ('Food & Drink', 0.8069522036002483),\n",
       " ('Weather', 0.8690254500310366),\n",
       " ('Finance', 1.1173184357541899),\n",
       " ('Travel', 1.2414649286157666),\n",
       " ('News', 1.3345747982619491),\n",
       " ('Lifestyle', 1.5828677839851024),\n",
       " ('Productivity', 1.7380509000620732),\n",
       " ('Health & Fitness', 2.0173805090006205),\n",
       " ('Music', 2.0484171322160147),\n",
       " ('Sports', 2.1415270018621975),\n",
       " ('Utilities', 2.5139664804469275),\n",
       " ('Shopping', 2.60707635009311),\n",
       " ('Social Networking', 3.2898820608317814),\n",
       " ('Education', 3.662321539416512),\n",
       " ('Photo & Video', 4.9658597144630665),\n",
       " ('Entertainment', 7.883302296710118),\n",
       " ('Games', 58.16263190564867)]"
      ]
     },
     "execution_count": 20,
     "metadata": {},
     "output_type": "execute_result"
    }
   ],
   "source": [
    "import operator\n",
    "d = freq_table(apple_free, 11)\n",
    "sorted_d = sorted(d.items(), key=operator.itemgetter(1))\n",
    "sorted_d\n",
    "\n"
   ]
  },
  {
   "cell_type": "code",
   "execution_count": 21,
   "metadata": {},
   "outputs": [
    {
     "name": "stdout",
     "output_type": "stream",
     "text": [
      "Games : 58.16263190564867\n",
      "Entertainment : 7.883302296710118\n",
      "Photo & Video : 4.9658597144630665\n",
      "Education : 3.662321539416512\n",
      "Social Networking : 3.2898820608317814\n",
      "Shopping : 2.60707635009311\n",
      "Utilities : 2.5139664804469275\n",
      "Sports : 2.1415270018621975\n",
      "Music : 2.0484171322160147\n",
      "Health & Fitness : 2.0173805090006205\n",
      "Productivity : 1.7380509000620732\n",
      "Lifestyle : 1.5828677839851024\n",
      "News : 1.3345747982619491\n",
      "Travel : 1.2414649286157666\n",
      "Finance : 1.1173184357541899\n",
      "Weather : 0.8690254500310366\n",
      "Food & Drink : 0.8069522036002483\n",
      "Reference : 0.5586592178770949\n",
      "Business : 0.5276225946617008\n",
      "Book : 0.4345127250155183\n",
      "Navigation : 0.186219739292365\n",
      "Medical : 0.186219739292365\n",
      "Catalogs : 0.12414649286157665\n"
     ]
    }
   ],
   "source": [
    "def display_table(dataset, index):\n",
    "    table = freq_table(dataset, index)\n",
    "    table_display = []\n",
    "    for key in table:\n",
    "        key_val_as_tuple = (table[key], key)\n",
    "        table_display.append(key_val_as_tuple)\n",
    "    #print(table_display)\n",
    "    table_sorted = sorted(table_display, reverse = True)\n",
    "    for entry in table_sorted:\n",
    "        print(entry[1], ':', entry[0])\n",
    "display_table(apple_free, 11)"
   ]
  },
  {
   "cell_type": "markdown",
   "metadata": {},
   "source": [
    "As we can see that the App Store is dominated by Games category. The second position ia entertainment category which about 7.8%. Next are Photo&Video, Education, and Social neworking. We have to know why Games category has the most users among the other category. "
   ]
  },
  {
   "cell_type": "code",
   "execution_count": 22,
   "metadata": {},
   "outputs": [
    {
     "data": {
      "text/plain": [
       "App                object\n",
       "Category           object\n",
       "Rating            float64\n",
       "Reiews             object\n",
       "Size               object\n",
       "Installs          float64\n",
       "Type               object\n",
       "Price              object\n",
       "Content_Rating     object\n",
       "Genres             object\n",
       "Last Updated       object\n",
       "Current Ver        object\n",
       "Android Ver        object\n",
       "dtype: object"
      ]
     },
     "execution_count": 22,
     "metadata": {},
     "output_type": "execute_result"
    }
   ],
   "source": [
    "import pandas as pd\n",
    "\n",
    "df_apple = pd.DataFrame(apple_free) \n",
    "df_apple.columns = col_apple\n",
    "\n",
    "df_google = pd.DataFrame(google_free) \n",
    "df_google.columns = col_google\n",
    "\n",
    "df_google[\"Installs\"] = df_google[\"Installs\"].str.replace('+', '')\n",
    "df_google[\"Installs\"] = df_google[\"Installs\"].str.replace(',', '')\n",
    "df_google[\"Installs\"] = df_google[\"Installs\"].astype(float)\n",
    "\n",
    "df_google.dtypes\n",
    "#df_google.iloc[0,5]+df_google.iloc[1,5]\n",
    "\n",
    "#df_google.head(5)\n"
   ]
  },
  {
   "cell_type": "code",
   "execution_count": 23,
   "metadata": {},
   "outputs": [
    {
     "data": {
      "image/png": "[encoded data removed]",
      "text/plain": [
       "<Figure size 432x288 with 1 Axes>"
      ]
     },
     "metadata": {
      "needs_background": "light"
     },
     "output_type": "display_data"
    }
   ],
   "source": [
    "import numpy as np\n",
    "import matplotlib.pyplot as plt\n",
    "%matplotlib inline\n",
    "\n",
    "df_apple_test = df_apple[[\"prime_genre\", \"rating_count_tot\"]]\n",
    "df_apple_groupby = df_apple_test.groupby([\"prime_genre\"], as_index = False).sum()\n",
    "#df_groupby_pivot = df_groupby.pivot(index = \"prime_genre\", columns = \"rating_count_tot\")\n",
    "#df_groupby_pivot\n",
    "\n",
    "plt.bar(\"prime_genre\", \"rating_count_tot\", data = df_apple_groupby, color = \"blue\")\n",
    "plt.xlabel(\"prime_genre\")\n",
    "plt.xticks(rotation = 90)\n",
    "plt.ylabel(\"rating_count_tot\")\n",
    "plt.title(\"Rating Total based on Category in App Store\")\n",
    "plt.show()\n",
    "#pyplot.bar(df[\"prime_genre\"], df_groupby)"
   ]
  },
  {
   "cell_type": "markdown",
   "metadata": {},
   "source": [
    "Based on ba chart above, we can see rating in App Store is highly dominated by Games applications. For the detail, we will create rating chart especially in Games category."
   ]
  },
  {
   "cell_type": "code",
   "execution_count": 24,
   "metadata": {},
   "outputs": [
    {
     "name": "stdout",
     "output_type": "stream",
     "text": [
      "average rating games:  22788.6696905016\n"
     ]
    },
    {
     "data": {
      "image/png": "[encoded data removed]",
      "text/plain": [
       "<Figure size 432x288 with 1 Axes>"
      ]
     },
     "metadata": {
      "needs_background": "light"
     },
     "output_type": "display_data"
    }
   ],
   "source": [
    "games_bool = df_apple[\"prime_genre\"] == \"Games\"\n",
    "df_games = df_apple[games_bool]\n",
    "#df_games.head(5)\n",
    "df_games_sort = df_games.sort_values(by='rating_count_tot', ascending=False)\n",
    "#df_games_sort.head()\n",
    "avg_rating_games = df_games[\"rating_count_tot\"].mean()\n",
    "print(\"average rating games: \", avg_rating_games)\n",
    "plt.bar(\"track_name\", \"rating_count_tot\", data = df_games_sort.head(30), color = \"blue\")\n",
    "plt.xlabel(\"track_name\")\n",
    "plt.xticks(rotation = 90)\n",
    "plt.ylabel(\"rating_count_tot\")\n",
    "plt.title(\"Rating per Games\")\n",
    "plt.show()"
   ]
  },
  {
   "cell_type": "markdown",
   "metadata": {},
   "source": [
    "Clash of Clans is the most favourite games in App Store with rating is 2,000,000 while the rating average is about 22,788. We can conclude that most user in App Store are likely to use applications whose belong to fun category such as games.  "
   ]
  },
  {
   "cell_type": "markdown",
   "metadata": {},
   "source": [
    "Now we turn to analyze what kind of applications that has the highest rating in Google Play Store. In this analysis, we will use Install column to represent the most preferred applications by Google users. We have to convert Install column to float. After that, we build frequency table by category with average value. "
   ]
  },
  {
   "cell_type": "code",
   "execution_count": 25,
   "metadata": {},
   "outputs": [
    {
     "data": {
      "text/plain": [
       "{'ART_AND_DESIGN': 1986335.0877192982,\n",
       " 'AUTO_AND_VEHICLES': 647317.8170731707,\n",
       " 'BEAUTY': 513151.88679245283,\n",
       " 'BOOKS_AND_REFERENCE': 8767811.894736841,\n",
       " 'BUSINESS': 1712290.1474201474,\n",
       " 'COMICS': 817657.2727272727,\n",
       " 'COMMUNICATION': 38456119.167247385,\n",
       " 'DATING': 854028.8303030303,\n",
       " 'EDUCATION': 1820673.076923077,\n",
       " 'ENTERTAINMENT': 11640705.88235294,\n",
       " 'EVENTS': 253542.22222222222,\n",
       " 'FINANCE': 1387692.475609756,\n",
       " 'FOOD_AND_DRINK': 1924897.7363636363,\n",
       " 'HEALTH_AND_FITNESS': 4188821.9853479853,\n",
       " 'HOUSE_AND_HOME': 1331540.5616438356,\n",
       " 'LIBRARIES_AND_DEMO': 638503.734939759,\n",
       " 'LIFESTYLE': 1437816.2687861272,\n",
       " 'GAME': 15560965.599534342,\n",
       " 'FAMILY': 3696479.242695289,\n",
       " 'MEDICAL': 120616.48717948717,\n",
       " 'SOCIAL': 23253652.127118643,\n",
       " 'SHOPPING': 7036877.311557789,\n",
       " 'PHOTOGRAPHY': 17805627.643678162,\n",
       " 'SPORTS': 3638640.1428571427,\n",
       " 'TRAVEL_AND_LOCAL': 13984077.710144928,\n",
       " 'TOOLS': 10682301.033377837,\n",
       " 'PERSONALIZATION': 5201482.6122448975,\n",
       " 'PRODUCTIVITY': 16787331.344927534,\n",
       " 'PARENTING': 542603.6206896552,\n",
       " 'WEATHER': 5074486.197183099,\n",
       " 'VIDEO_PLAYERS': 24727872.452830188,\n",
       " 'NEWS_AND_MAGAZINES': 9549178.467741935,\n",
       " 'MAPS_AND_NAVIGATION': 4056941.7741935486}"
      ]
     },
     "execution_count": 25,
     "metadata": {},
     "output_type": "execute_result"
    }
   ],
   "source": [
    "genre_google = freq_table(google_free, 1)\n",
    "#print(genre_google)\n",
    "freq_google = {}\n",
    "for category in genre_google:\n",
    "    total = 0\n",
    "    len_category = 0\n",
    "    for app in google_free:\n",
    "        category_app = app[1]\n",
    "        if category_app == category:\n",
    "            value = app[5]\n",
    "            value = value.replace('+', '')\n",
    "            value = value.replace(',', '')\n",
    "            value = float(value)\n",
    "            total += value\n",
    "            len_category += 1\n",
    "    avg_install = total/len_category\n",
    "    #print(category, ': ', avg_install)\n",
    "    freq_google[category] = avg_install\n",
    "freq_google"
   ]
  },
  {
   "cell_type": "code",
   "execution_count": 26,
   "metadata": {},
   "outputs": [
    {
     "name": "stdout",
     "output_type": "stream",
     "text": [
      "Social Networking :  71548.34905660378\n",
      "Photo & Video :  28441.54375\n",
      "Games :  22788.6696905016\n",
      "Music :  57326.530303030304\n",
      "Reference :  74942.11111111111\n",
      "Health & Fitness :  23298.015384615384\n",
      "Weather :  52279.892857142855\n",
      "Utilities :  18684.456790123455\n",
      "Travel :  28243.8\n",
      "Shopping :  26919.690476190477\n",
      "News :  21248.023255813954\n",
      "Navigation :  86090.33333333333\n",
      "Lifestyle :  16485.764705882353\n",
      "Entertainment :  14029.830708661417\n",
      "Food & Drink :  33333.92307692308\n",
      "Sports :  23008.898550724636\n",
      "Book :  39758.5\n",
      "Finance :  31467.944444444445\n",
      "Education :  7003.983050847458\n",
      "Productivity :  21028.410714285714\n",
      "Business :  7491.117647058823\n",
      "Catalogs :  4004.0\n",
      "Medical :  612.0\n"
     ]
    }
   ],
   "source": [
    "genre_ios = freq_table(apple_free, 11)\n",
    "for genre in genre_ios:\n",
    "    total = 0\n",
    "    len_genre = 0\n",
    "    for app in apple_free:\n",
    "        genre_app = app[11]\n",
    "        if genre_app == genre:\n",
    "            value = float(app[5])\n",
    "            total += value\n",
    "            len_genre += 1\n",
    "    avg_ratings = total/len_genre\n",
    "    print(genre, ': ', avg_ratings)"
   ]
  },
  {
   "cell_type": "markdown",
   "metadata": {},
   "source": [
    "We will use data frame to build a chart"
   ]
  },
  {
   "cell_type": "code",
   "execution_count": 27,
   "metadata": {},
   "outputs": [
    {
     "data": {
      "image/png": "[encoded data removed]",
      "text/plain": [
       "<Figure size 432x288 with 1 Axes>"
      ]
     },
     "metadata": {
      "needs_background": "light"
     },
     "output_type": "display_data"
    }
   ],
   "source": [
    "df_google_test = df_google[[\"Category\", \"Installs\"]]\n",
    "df_google_groupby = df_google_test.groupby([\"Category\"], as_index = False).sum()\n",
    "df_google_sort = df_google_groupby.sort_values(by='Installs', ascending=False)\n",
    "df_google_sort[\"Percentage\"] = df_google_sort[\"Installs\"]*100/df_google_sort[\"Installs\"].sum()\n",
    "#df_google_sort\n",
    "plt.bar(\"Category\", \"Percentage\", data = df_google_sort, color = \"red\")\n",
    "plt.xlabel(\"Category\")\n",
    "plt.xticks(rotation = 90)\n",
    "plt.ylabel(\"Percentage  of Installs\")\n",
    "plt.title(\"Percentage  of Installs based on Category in Google Play Store\")\n",
    "plt.show()"
   ]
  },
  {
   "cell_type": "markdown",
   "metadata": {},
   "source": [
    "Sekarang analisa frekuensi rating untuk Google Play Store <br>\n",
    "group by genre di game    "
   ]
  },
  {
   "cell_type": "code",
   "execution_count": 40,
   "metadata": {},
   "outputs": [
    {
     "data": {
      "image/png": "[encoded data removed]",
      "text/plain": [
       "<Figure size 432x288 with 1 Axes>"
      ]
     },
     "metadata": {
      "needs_background": "light"
     },
     "output_type": "display_data"
    }
   ],
   "source": [
    "df_google_test1 = df_google[[\"Category\", \"Genres\"]]\n",
    "game_bool2 = df_google_test1[\"Category\"] == \"GAME\"\n",
    "df_game = df_google_test1[game_bool2]\n",
    "df_game_groupby = df_game.groupby([\"Genres\"], as_index = False).count()\n",
    "df_game_groupby.rename(columns={\"Category\":\"Count\"}, inplace = True)\n",
    "plt.bar(\"Genres\", \"Count\", data = df_game_groupby, color = \"red\")\n",
    "plt.xlabel(\"Genres\")\n",
    "plt.xticks(rotation = 90)\n",
    "plt.ylabel(\"Count of Applications\")\n",
    "plt.title(\"Count of Applications based on Game Genres\")\n",
    "plt.show()"
   ]
  },
  {
   "cell_type": "markdown",
   "metadata": {},
   "source": [
    "Based on chart above, we can see that Action genre has the most users in Game category on Google Play Store. "
   ]
  },
  {
   "cell_type": "code",
   "execution_count": 37,
   "metadata": {},
   "outputs": [
    {
     "data": {
      "text/plain": [
       "{'ART_AND_DESIGN': 1986335.0877192982,\n",
       " 'AUTO_AND_VEHICLES': 647317.8170731707,\n",
       " 'BEAUTY': 513151.88679245283,\n",
       " 'BOOKS_AND_REFERENCE': 8767811.894736841,\n",
       " 'BUSINESS': 1712290.1474201474,\n",
       " 'COMICS': 817657.2727272727,\n",
       " 'COMMUNICATION': 38456119.167247385,\n",
       " 'DATING': 854028.8303030303,\n",
       " 'EDUCATION': 1820673.076923077,\n",
       " 'ENTERTAINMENT': 11640705.88235294,\n",
       " 'EVENTS': 253542.22222222222,\n",
       " 'FINANCE': 1387692.475609756,\n",
       " 'FOOD_AND_DRINK': 1924897.7363636363,\n",
       " 'HEALTH_AND_FITNESS': 4188821.9853479853,\n",
       " 'HOUSE_AND_HOME': 1331540.5616438356,\n",
       " 'LIBRARIES_AND_DEMO': 638503.734939759,\n",
       " 'LIFESTYLE': 1437816.2687861272,\n",
       " 'GAME': 15560965.599534342,\n",
       " 'FAMILY': 3696479.242695289,\n",
       " 'MEDICAL': 120616.48717948717,\n",
       " 'SOCIAL': 23253652.127118643,\n",
       " 'SHOPPING': 7036877.311557789,\n",
       " 'PHOTOGRAPHY': 17805627.643678162,\n",
       " 'SPORTS': 3638640.1428571427,\n",
       " 'TRAVEL_AND_LOCAL': 13984077.710144928,\n",
       " 'TOOLS': 10682301.033377837,\n",
       " 'PERSONALIZATION': 5201482.6122448975,\n",
       " 'PRODUCTIVITY': 16787331.344927534,\n",
       " 'PARENTING': 542603.6206896552,\n",
       " 'WEATHER': 5074486.197183099,\n",
       " 'VIDEO_PLAYERS': 24727872.452830188,\n",
       " 'NEWS_AND_MAGAZINES': 9549178.467741935,\n",
       " 'MAPS_AND_NAVIGATION': 4056941.7741935486}"
      ]
     },
     "execution_count": 37,
     "metadata": {},
     "output_type": "execute_result"
    }
   ],
   "source": [
    "genre_google = freq_table(google_free, 1)\n",
    "#print(genre_google)\n",
    "freq_google = {}\n",
    "for category in genre_google:\n",
    "    total = 0\n",
    "    len_category = 0\n",
    "    for app in google_free:\n",
    "        category_app = app[1]\n",
    "        if category_app == category:\n",
    "            value = app[5]\n",
    "            value = value.replace('+', '')\n",
    "            value = value.replace(',', '')\n",
    "            value = float(value)\n",
    "            total += value\n",
    "            len_category += 1\n",
    "    avg_install = total/len_category\n",
    "    #print(category, ': ', avg_install)\n",
    "    freq_google[category] = avg_install\n",
    "freq_google"
   ]
  }
 ],
 "metadata": {
  "kernelspec": {
   "display_name": "Python 3",
   "language": "python",
   "name": "python3"
  },
  "language_info": {
   "codemirror_mode": {
    "name": "ipython",
    "version": 3
   },
   "file_extension": ".py",
   "mimetype": "text/x-python",
   "name": "python",
   "nbconvert_exporter": "python",
   "pygments_lexer": "ipython3",
   "version": "3.7.6"
  }
 },
 "nbformat": 4,
 "nbformat_minor": 2
}
